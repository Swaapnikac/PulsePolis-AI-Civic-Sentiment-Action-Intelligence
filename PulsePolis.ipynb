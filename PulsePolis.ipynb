{
  "nbformat": 4,
  "nbformat_minor": 0,
  "metadata": {
    "colab": {
      "provenance": []
    },
    "kernelspec": {
      "name": "python3",
      "display_name": "Python 3"
    },
    "language_info": {
      "name": "python"
    }
  },
  "cells": [
    {
      "cell_type": "code",
      "execution_count": null,
      "metadata": {
        "id": "YP_h4yavdFk3"
      },
      "outputs": [],
      "source": [
        "!pip install openai langchain textblob spacy sentence-transformers umap-learn hdbscan pandas matplotlib scikit-learn python-dotenv\n",
        "!python -m spacy download en_core_web_sm"
      ]
    },
    {
      "cell_type": "code",
      "source": [
        "import os\n",
        "import pandas as pd\n",
        "import numpy as np\n",
        "import matplotlib.pyplot as plt\n",
        "import umap\n",
        "import hdbscan\n",
        "from dotenv import load_dotenv\n",
        "from textblob import TextBlob\n",
        "from sentence_transformers import SentenceTransformer\n",
        "from sklearn.feature_extraction.text import CountVectorizer\n",
        "from langchain.chat_models import ChatOpenAI\n",
        "from langchain.schema import HumanMessage\n",
        "import spacy\n",
        "\n",
        "load_dotenv()\n",
        "OPENAI_API_KEY = os.getenv(\"OPENAI_API_KEY\")\n",
        "\n",
        "llm = ChatOpenAI(model=\"gpt-4o\", temperature=0.3, openai_api_key=OPENAI_API_KEY)\n",
        "nlp = spacy.load(\"en_core_web_sm\")"
      ],
      "metadata": {
        "id": "uN8vFCsPdmy2"
      },
      "execution_count": null,
      "outputs": []
    },
    {
      "cell_type": "code",
      "source": [
        "data = {\n",
        "    \"comment\": [\n",
        "        \"The MBTA delays are getting worse every day. No one even gives updates anymore.\",\n",
        "        \"Housing prices are insane. The city needs to regulate rent increases.\",\n",
        "        \"Healthcare access for immigrants is so complicated. We need multilingual support.\",\n",
        "        \"Public parks are great but not safe at night. Lighting and patrols could help.\",\n",
        "        \"Our schools need more special education staff, not just technology upgrades.\"\n",
        "    ]\n",
        "}\n",
        "df = pd.DataFrame(data)\n",
        "df.head()"
      ],
      "metadata": {
        "id": "w-pgoNiddoM2"
      },
      "execution_count": null,
      "outputs": []
    },
    {
      "cell_type": "code",
      "source": [
        "def clean_text(text):\n",
        "    doc = nlp(text.lower())\n",
        "    tokens = [t.lemma_ for t in doc if not t.is_stop and t.is_alpha]\n",
        "    return \" \".join(tokens)\n",
        "\n",
        "df[\"clean_text\"] = df[\"comment\"].apply(clean_text)\n",
        "df.head()"
      ],
      "metadata": {
        "id": "igfurWxjdq4d"
      },
      "execution_count": null,
      "outputs": []
    },
    {
      "cell_type": "code",
      "source": [
        "model = SentenceTransformer('all-MiniLM-L6-v2')\n",
        "embeddings = model.encode(df[\"clean_text\"], show_progress_bar=True)\n",
        "\n",
        "reducer = umap.UMAP(random_state=42)\n",
        "embedding_2d = reducer.fit_transform(embeddings)\n",
        "\n",
        "clusterer = hdbscan.HDBSCAN(min_cluster_size=2, gen_min_span_tree=True)\n",
        "clusters = clusterer.fit_predict(embeddings)\n",
        "df[\"cluster\"] = clusters\n",
        "df.head()"
      ],
      "metadata": {
        "id": "02DSD4jCdsWs"
      },
      "execution_count": null,
      "outputs": []
    },
    {
      "cell_type": "code",
      "source": [
        "def get_sentiment(text):\n",
        "    blob = TextBlob(text)\n",
        "    return blob.sentiment.polarity\n",
        "\n",
        "def get_emotion_label(score):\n",
        "    if score > 0.2:\n",
        "        return \"Hopeful\"\n",
        "    elif score < -0.2:\n",
        "        return \"Frustrated\"\n",
        "    else:\n",
        "        return \"Neutral\"\n",
        "\n",
        "df[\"sentiment_score\"] = df[\"comment\"].apply(get_sentiment)\n",
        "df[\"dominant_emotion\"] = df[\"sentiment_score\"].apply(get_emotion_label)\n",
        "df.head()"
      ],
      "metadata": {
        "id": "A3J_PzWrduJ1"
      },
      "execution_count": null,
      "outputs": []
    },
    {
      "cell_type": "code",
      "source": [
        "def generate_insight(topic_texts, cluster_id):\n",
        "    combined_text = \" \".join(topic_texts)\n",
        "    prompt = f\"\"\"\n",
        "    You are a civic policy analyst AI. Analyze the following public comments and create a brief\n",
        "    summarizing community sentiment, main issues, and an actionable recommendation.\n",
        "\n",
        "    Comments:\n",
        "    {combined_text}\n",
        "\n",
        "    Return JSON format:\n",
        "    {{\n",
        "      \"cluster_id\": \"{cluster_id}\",\n",
        "      \"summary\": \"...\",\n",
        "      \"dominant_emotion\": \"...\",\n",
        "      \"top_issues\": [\"...\"],\n",
        "      \"recommended_action\": \"...\",\n",
        "      \"equity_note\": \"...\"\n",
        "    }}\n",
        "    \"\"\"\n",
        "    resp = llm([HumanMessage(content=prompt)])\n",
        "    return resp.content\n",
        "\n",
        "insights = []\n",
        "for c in df[\"cluster\"].unique():\n",
        "    subset = df[df[\"cluster\"] == c][\"comment\"].tolist()\n",
        "    insight = generate_insight(subset, c)\n",
        "    insights.append(insight)"
      ],
      "metadata": {
        "id": "nILFyoVfdwJM"
      },
      "execution_count": null,
      "outputs": []
    },
    {
      "cell_type": "code",
      "source": [
        "for i, text in enumerate(insights):\n",
        "    print(f\"\\n=== Civic Cluster {i} ===\")\n",
        "    print(text)"
      ],
      "metadata": {
        "id": "NLBQsZWwdy7D"
      },
      "execution_count": null,
      "outputs": []
    },
    {
      "cell_type": "code",
      "source": [
        "plt.figure(figsize=(8,6))\n",
        "plt.scatter(embedding_2d[:,0], embedding_2d[:,1], c=df[\"sentiment_score\"], cmap=\"coolwarm\", s=80)\n",
        "plt.colorbar(label=\"Sentiment Polarity\")\n",
        "plt.title(\"Civic Sentiment Map – PulsePolis\")\n",
        "plt.xlabel(\"UMAP-1\")\n",
        "plt.ylabel(\"UMAP-2\")\n",
        "plt.show()"
      ],
      "metadata": {
        "id": "YSkMAThcd0TV"
      },
      "execution_count": null,
      "outputs": []
    },
    {
      "cell_type": "code",
      "source": [
        "df.to_csv(\"pulsepolis_results.csv\", index=False)\n",
        "print(\"Results saved as pulsepolis_results.csv\")"
      ],
      "metadata": {
        "id": "QYRasgImd2VQ"
      },
      "execution_count": null,
      "outputs": []
    },
    {
      "cell_type": "code",
      "source": [
        "prompt = f\"\"\"\n",
        "You are an AI policy summarizer.\n",
        "Based on these civic discussions, produce a city-wide report summarizing key concerns,\n",
        "community emotions, and 3 actionable policy recommendations.\n",
        "\n",
        "Data:\n",
        "{df.to_dict(orient='records')}\n",
        "\"\"\"\n",
        "report = llm([HumanMessage(content=prompt)])\n",
        "print(report.content)"
      ],
      "metadata": {
        "id": "nhT8NAeCd6mq"
      },
      "execution_count": null,
      "outputs": []
    }
  ]
}